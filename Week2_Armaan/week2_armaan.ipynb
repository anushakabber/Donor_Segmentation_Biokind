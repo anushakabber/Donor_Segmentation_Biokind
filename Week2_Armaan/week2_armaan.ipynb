{
 "cells": [
  {
   "cell_type": "code",
   "execution_count": 75,
   "metadata": {},
   "outputs": [],
   "source": [
    "import pandas as pd\n",
    "\n",
    "df = pd.read_csv('/Users/armaanjain/Documents/UW Freshman (2024-2025)/Clubs/BioKind Analytics/Donor_Segmentation_Biokind-main/Week2/final_df.csv')\n",
    "\n",
    "# Question 6\n",
    "\n",
    "# Calculate the average number per zip code, rounded to 2 decimal places\n",
    "average_per_zip = df.groupby('Zip.Code')['Largest.Donation.Amount'].mean().round(2).reset_index()\n",
    "\n",
    "# Rename columns for clarity\n",
    "average_per_zip.columns = ['zip_code', 'average_donation_amount']\n"
   ]
  },
  {
   "cell_type": "code",
   "execution_count": 76,
   "metadata": {},
   "outputs": [],
   "source": [
    "# Convert average_per_zip data into a CSV file without adding an extra index column\n",
    "average_per_zip.to_csv(\"Question6.csv\", index=False)"
   ]
  },
  {
   "cell_type": "code",
   "execution_count": 84,
   "metadata": {},
   "outputs": [],
   "source": [
    "# Question 7\n",
    "\n",
    "# Group by zipcode and campaign, then count the # of donations associated with each\n",
    "campaign_counts = df.groupby(['Zip.Code', 'Email.Campaign.Name'])['Largest.Donation.Amount'].count().reset_index(name='Count')\n",
    "\n",
    "# For each ZipCode, find the campaign with the highest count of donations\n",
    "max_counts = campaign_counts.loc[campaign_counts.groupby('Zip.Code')['Count'].idxmax()]\n",
    "\n",
    "# Rename columns for clarity\n",
    "max_counts.columns = ['zip_code', 'Campaign_with_highest_count', 'Count']"
   ]
  },
  {
   "cell_type": "code",
   "execution_count": 78,
   "metadata": {},
   "outputs": [],
   "source": [
    "# Convert max_counts data into a CSV file without adding an extra index column\n",
    "max_counts.to_csv(\"Question7.csv\", index=False)"
   ]
  },
  {
   "cell_type": "code",
   "execution_count": 81,
   "metadata": {},
   "outputs": [],
   "source": [
    "# Question 8\n",
    "\n",
    "# Group by ZipCode and Name, then sum the numbers associated with each\n",
    "campaign_sum = df.groupby(['Zip.Code', 'Email.Campaign.Name'])['Largest.Donation.Amount'].sum().round(2).reset_index(name='Sum')\n",
    "\n",
    "# For each ZipCode, find the name with the highest sum of numbers\n",
    "max_sum = campaign_sum.loc[campaign_sum.groupby('Zip.Code')['Sum'].idxmax()]\n",
    "\n",
    "# Rename columns for clarity\n",
    "max_sum.columns = ['zip_code', 'Campaign_with_highest_sum', 'Sum']\n"
   ]
  },
  {
   "cell_type": "code",
   "execution_count": 82,
   "metadata": {},
   "outputs": [],
   "source": [
    "# Convert max_sum data into a CSV file without adding an extra index column\n",
    "max_sum.to_csv(\"Question8.csv\", index=False)"
   ]
  }
 ],
 "metadata": {
  "kernelspec": {
   "display_name": "Python 3",
   "language": "python",
   "name": "python3"
  },
  "language_info": {
   "codemirror_mode": {
    "name": "ipython",
    "version": 3
   },
   "file_extension": ".py",
   "mimetype": "text/x-python",
   "name": "python",
   "nbconvert_exporter": "python",
   "pygments_lexer": "ipython3",
   "version": "3.10.2"
  }
 },
 "nbformat": 4,
 "nbformat_minor": 2
}
