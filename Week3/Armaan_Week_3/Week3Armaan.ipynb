{
 "cells": [
  {
   "cell_type": "code",
   "execution_count": 32,
   "metadata": {},
   "outputs": [],
   "source": [
    "import pandas as pd\n",
    "\n",
    "df = pd.read_csv('/Users/armaanjain/Documents/UW Freshman (2024-2025)/Clubs/BioKind Analytics/Donor_Segmentation_Biokind-main/Week3/results_df.csv')\n"
   ]
  },
  {
   "cell_type": "code",
   "execution_count": 33,
   "metadata": {},
   "outputs": [],
   "source": [
    "filtered_df = df[df['Prioritized Donor Kind'] == \"Low Engagement-High Donation\"]"
   ]
  },
  {
   "cell_type": "code",
   "execution_count": 34,
   "metadata": {},
   "outputs": [
    {
     "name": "stdout",
     "output_type": "stream",
     "text": [
      "# of individual donations in the Low Engagement-High Donation category: 43\n",
      "# of company donations in the Low Engagement-High Donation: 12\n",
      "% of individual donations in the Low Engagement-High Donation: 78.18\n",
      "% of company donations in the Low Engagement-High Donation: 21.82\n"
     ]
    }
   ],
   "source": [
    "missing_count = filtered_df['Company.Name'].isnull().sum()\n",
    "print(f\"# of individual donations in the Low Engagement-High Donation category: {missing_count}\")\n",
    "\n",
    "non_missing_count = filtered_df['Company.Name'].notnull().sum()\n",
    "print(f\"# of company donations in the Low Engagement-High Donation: {non_missing_count}\")\n",
    "\n",
    "percent_individual = round(((43/(43+12))*100), 2)\n",
    "percent_company = round(((12/(43+12))*100), 2)\n",
    "\n",
    "print(f\"% of individual donations in the Low Engagement-High Donation: {percent_individual}\")\n",
    "\n",
    "print(f\"% of company donations in the Low Engagement-High Donation: {percent_company}\")\n",
    "\n"
   ]
  },
  {
   "cell_type": "code",
   "execution_count": 35,
   "metadata": {},
   "outputs": [],
   "source": [
    "filtered_df.to_csv(\"Filtered_Data.csv\", index=False)"
   ]
  }
 ],
 "metadata": {
  "kernelspec": {
   "display_name": "Python 3",
   "language": "python",
   "name": "python3"
  },
  "language_info": {
   "codemirror_mode": {
    "name": "ipython",
    "version": 3
   },
   "file_extension": ".py",
   "mimetype": "text/x-python",
   "name": "python",
   "nbconvert_exporter": "python",
   "pygments_lexer": "ipython3",
   "version": "3.10.2"
  }
 },
 "nbformat": 4,
 "nbformat_minor": 2
}
