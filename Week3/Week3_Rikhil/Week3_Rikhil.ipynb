{
 "cells": [
  {
   "cell_type": "code",
   "execution_count": null,
   "metadata": {},
   "outputs": [],
   "source": [
    "%pip install pandas"
   ]
  },
  {
   "cell_type": "code",
   "execution_count": 1,
   "metadata": {},
   "outputs": [],
   "source": [
    "import pandas as pd"
   ]
  },
  {
   "cell_type": "code",
   "execution_count": null,
   "metadata": {},
   "outputs": [],
   "source": [
    "df = pd.read_csv(\"../results_df.csv\")\n",
    "df.head()"
   ]
  },
  {
   "cell_type": "code",
   "execution_count": 8,
   "metadata": {},
   "outputs": [
    {
     "data": {
      "text/html": [
       "<div>\n",
       "<style scoped>\n",
       "    .dataframe tbody tr th:only-of-type {\n",
       "        vertical-align: middle;\n",
       "    }\n",
       "\n",
       "    .dataframe tbody tr th {\n",
       "        vertical-align: top;\n",
       "    }\n",
       "\n",
       "    .dataframe thead th {\n",
       "        text-align: right;\n",
       "    }\n",
       "</style>\n",
       "<table border=\"1\" class=\"dataframe\">\n",
       "  <thead>\n",
       "    <tr style=\"text-align: right;\">\n",
       "      <th></th>\n",
       "      <th>Unnamed: 0.1</th>\n",
       "      <th>Unnamed: 0</th>\n",
       "      <th>Account.ID</th>\n",
       "      <th>Email.First.Open.Date</th>\n",
       "      <th>Email.Last.Open.Date</th>\n",
       "      <th>Open.Count</th>\n",
       "      <th>Email.Recipient.Full.Name</th>\n",
       "      <th>Email</th>\n",
       "      <th>Email.Retry.Count</th>\n",
       "      <th>Email.Send.Date.Time</th>\n",
       "      <th>...</th>\n",
       "      <th>Address</th>\n",
       "      <th>City</th>\n",
       "      <th>State.Province</th>\n",
       "      <th>Zip.Code</th>\n",
       "      <th>Largest.Donation.Amount</th>\n",
       "      <th>Donor_Score</th>\n",
       "      <th>Engagement Type</th>\n",
       "      <th>Donation Type</th>\n",
       "      <th>Prioritized Donor Kind</th>\n",
       "      <th>Majority Donor Percentage</th>\n",
       "    </tr>\n",
       "  </thead>\n",
       "  <tbody>\n",
       "    <tr>\n",
       "      <th>0</th>\n",
       "      <td>0</td>\n",
       "      <td>0</td>\n",
       "      <td>8</td>\n",
       "      <td>NaN</td>\n",
       "      <td>NaN</td>\n",
       "      <td>NaN</td>\n",
       "      <td>Peggy Stebbins</td>\n",
       "      <td>tyandpeggy@gmail.com</td>\n",
       "      <td>2.0</td>\n",
       "      <td>2020-09-23 08:15:52</td>\n",
       "      <td>...</td>\n",
       "      <td>NaN</td>\n",
       "      <td>NaN</td>\n",
       "      <td>NaN</td>\n",
       "      <td>53538</td>\n",
       "      <td>100.0</td>\n",
       "      <td>19.923984</td>\n",
       "      <td>High Engagement</td>\n",
       "      <td>High Donation</td>\n",
       "      <td>High Engagement-Low Donation</td>\n",
       "      <td>44.444444</td>\n",
       "    </tr>\n",
       "    <tr>\n",
       "      <th>1</th>\n",
       "      <td>1</td>\n",
       "      <td>1</td>\n",
       "      <td>8</td>\n",
       "      <td>NaN</td>\n",
       "      <td>NaN</td>\n",
       "      <td>NaN</td>\n",
       "      <td>Peggy Stebbins</td>\n",
       "      <td>tyandpeggy@gmail.com</td>\n",
       "      <td>2.0</td>\n",
       "      <td>2021-05-03 10:02:19</td>\n",
       "      <td>...</td>\n",
       "      <td>NaN</td>\n",
       "      <td>NaN</td>\n",
       "      <td>NaN</td>\n",
       "      <td>53538</td>\n",
       "      <td>100.0</td>\n",
       "      <td>19.923984</td>\n",
       "      <td>High Engagement</td>\n",
       "      <td>High Donation</td>\n",
       "      <td>High Engagement-Low Donation</td>\n",
       "      <td>44.444444</td>\n",
       "    </tr>\n",
       "    <tr>\n",
       "      <th>2</th>\n",
       "      <td>2</td>\n",
       "      <td>2</td>\n",
       "      <td>8</td>\n",
       "      <td>2022-08-18</td>\n",
       "      <td>2022-08-18</td>\n",
       "      <td>1.0</td>\n",
       "      <td>Peggy Stebbins</td>\n",
       "      <td>tyandpeggy@gmail.com</td>\n",
       "      <td>NaN</td>\n",
       "      <td>2022-08-18 06:30:54</td>\n",
       "      <td>...</td>\n",
       "      <td>NaN</td>\n",
       "      <td>NaN</td>\n",
       "      <td>NaN</td>\n",
       "      <td>53538</td>\n",
       "      <td>100.0</td>\n",
       "      <td>19.923984</td>\n",
       "      <td>High Engagement</td>\n",
       "      <td>High Donation</td>\n",
       "      <td>High Engagement-Low Donation</td>\n",
       "      <td>44.444444</td>\n",
       "    </tr>\n",
       "    <tr>\n",
       "      <th>3</th>\n",
       "      <td>3</td>\n",
       "      <td>3</td>\n",
       "      <td>9</td>\n",
       "      <td>2021-05-03</td>\n",
       "      <td>2021-06-01</td>\n",
       "      <td>26.0</td>\n",
       "      <td>Samantha Maier</td>\n",
       "      <td>Sglass32085@gmail.com</td>\n",
       "      <td>2.0</td>\n",
       "      <td>2021-05-03 10:02:07</td>\n",
       "      <td>...</td>\n",
       "      <td>850 VFW Dr</td>\n",
       "      <td>Prairie Du Sac</td>\n",
       "      <td>WI</td>\n",
       "      <td>53578</td>\n",
       "      <td>25.0</td>\n",
       "      <td>30.998648</td>\n",
       "      <td>High Engagement</td>\n",
       "      <td>High Donation</td>\n",
       "      <td>High Engagement-Low Donation</td>\n",
       "      <td>43.750000</td>\n",
       "    </tr>\n",
       "    <tr>\n",
       "      <th>4</th>\n",
       "      <td>4</td>\n",
       "      <td>4</td>\n",
       "      <td>9</td>\n",
       "      <td>NaN</td>\n",
       "      <td>NaN</td>\n",
       "      <td>NaN</td>\n",
       "      <td>Samantha Maier</td>\n",
       "      <td>Sglass32085@gmail.com</td>\n",
       "      <td>2.0</td>\n",
       "      <td>2020-09-23 08:15:45</td>\n",
       "      <td>...</td>\n",
       "      <td>850 VFW Dr</td>\n",
       "      <td>Prairie Du Sac</td>\n",
       "      <td>WI</td>\n",
       "      <td>53578</td>\n",
       "      <td>25.0</td>\n",
       "      <td>30.998648</td>\n",
       "      <td>High Engagement</td>\n",
       "      <td>High Donation</td>\n",
       "      <td>High Engagement-Low Donation</td>\n",
       "      <td>43.750000</td>\n",
       "    </tr>\n",
       "  </tbody>\n",
       "</table>\n",
       "<p>5 rows × 39 columns</p>\n",
       "</div>"
      ],
      "text/plain": [
       "   Unnamed: 0.1  Unnamed: 0  Account.ID Email.First.Open.Date  \\\n",
       "0             0           0           8                   NaN   \n",
       "1             1           1           8                   NaN   \n",
       "2             2           2           8            2022-08-18   \n",
       "3             3           3           9            2021-05-03   \n",
       "4             4           4           9                   NaN   \n",
       "\n",
       "  Email.Last.Open.Date  Open.Count Email.Recipient.Full.Name  \\\n",
       "0                  NaN         NaN            Peggy Stebbins   \n",
       "1                  NaN         NaN            Peggy Stebbins   \n",
       "2           2022-08-18         1.0            Peggy Stebbins   \n",
       "3           2021-06-01        26.0            Samantha Maier   \n",
       "4                  NaN         NaN            Samantha Maier   \n",
       "\n",
       "                   Email  Email.Retry.Count Email.Send.Date.Time  ...  \\\n",
       "0   tyandpeggy@gmail.com                2.0  2020-09-23 08:15:52  ...   \n",
       "1   tyandpeggy@gmail.com                2.0  2021-05-03 10:02:19  ...   \n",
       "2   tyandpeggy@gmail.com                NaN  2022-08-18 06:30:54  ...   \n",
       "3  Sglass32085@gmail.com                2.0  2021-05-03 10:02:07  ...   \n",
       "4  Sglass32085@gmail.com                2.0  2020-09-23 08:15:45  ...   \n",
       "\n",
       "      Address            City State.Province  Zip.Code  \\\n",
       "0         NaN             NaN            NaN     53538   \n",
       "1         NaN             NaN            NaN     53538   \n",
       "2         NaN             NaN            NaN     53538   \n",
       "3  850 VFW Dr  Prairie Du Sac             WI     53578   \n",
       "4  850 VFW Dr  Prairie Du Sac             WI     53578   \n",
       "\n",
       "  Largest.Donation.Amount Donor_Score  Engagement Type  Donation Type  \\\n",
       "0                   100.0   19.923984  High Engagement  High Donation   \n",
       "1                   100.0   19.923984  High Engagement  High Donation   \n",
       "2                   100.0   19.923984  High Engagement  High Donation   \n",
       "3                    25.0   30.998648  High Engagement  High Donation   \n",
       "4                    25.0   30.998648  High Engagement  High Donation   \n",
       "\n",
       "         Prioritized Donor Kind Majority Donor Percentage  \n",
       "0  High Engagement-Low Donation                 44.444444  \n",
       "1  High Engagement-Low Donation                 44.444444  \n",
       "2  High Engagement-Low Donation                 44.444444  \n",
       "3  High Engagement-Low Donation                 43.750000  \n",
       "4  High Engagement-Low Donation                 43.750000  \n",
       "\n",
       "[5 rows x 39 columns]"
      ]
     },
     "execution_count": 8,
     "metadata": {},
     "output_type": "execute_result"
    }
   ],
   "source": [
    "filtered_df = df[df['Prioritized Donor Kind'] == \"High Engagement-Low Donation\"]\n",
    "filtered_df.head()"
   ]
  },
  {
   "cell_type": "code",
   "execution_count": 26,
   "metadata": {},
   "outputs": [
    {
     "name": "stdout",
     "output_type": "stream",
     "text": [
      "Zip.Code\n",
      "53589    166\n",
      "53546     61\n",
      "53528     51\n",
      "53534     39\n",
      "53959     35\n",
      "        ... \n",
      "53940      2\n",
      "38117      2\n",
      "53554      2\n",
      "53809      2\n",
      "85048      2\n",
      "Name: count, Length: 84, dtype: int64\n",
      "815\n"
     ]
    }
   ],
   "source": [
    "print(filtered_df['Zip.Code'].value_counts())\n",
    "print(filtered_df['Zip.Code'].count())"
   ]
  },
  {
   "cell_type": "code",
   "execution_count": 15,
   "metadata": {},
   "outputs": [
    {
     "data": {
      "text/plain": [
       "count     815.000000\n",
       "mean       54.731890\n",
       "std       109.696344\n",
       "min         0.000000\n",
       "25%        25.000000\n",
       "50%        26.060000\n",
       "75%        51.800000\n",
       "max      1561.190000\n",
       "Name: Largest.Donation.Amount, dtype: float64"
      ]
     },
     "execution_count": 15,
     "metadata": {},
     "output_type": "execute_result"
    }
   ],
   "source": [
    "filtered_df['Largest.Donation.Amount'].describe()"
   ]
  },
  {
   "cell_type": "code",
   "execution_count": null,
   "metadata": {},
   "outputs": [
    {
     "data": {
      "text/plain": [
       "count    815.000000\n",
       "mean      12.858971\n",
       "std        3.550165\n",
       "min        0.000000\n",
       "25%       13.260125\n",
       "50%       13.260125\n",
       "75%       13.310820\n",
       "max       30.998648\n",
       "Name: Donor_Score, dtype: float64"
      ]
     },
     "execution_count": 12,
     "metadata": {},
     "output_type": "execute_result"
    }
   ],
   "source": [
    "filtered_df['Donor_Score'].describe()"
   ]
  },
  {
   "cell_type": "code",
   "execution_count": 13,
   "metadata": {},
   "outputs": [
    {
     "data": {
      "text/plain": [
       "count    34.000000\n",
       "mean      1.029412\n",
       "std       0.171499\n",
       "min       1.000000\n",
       "25%       1.000000\n",
       "50%       1.000000\n",
       "75%       1.000000\n",
       "max       2.000000\n",
       "Name: Email.Link.Click.Count, dtype: float64"
      ]
     },
     "execution_count": 13,
     "metadata": {},
     "output_type": "execute_result"
    }
   ],
   "source": [
    "filtered_df['Email.Link.Click.Count'].describe()"
   ]
  },
  {
   "cell_type": "code",
   "execution_count": null,
   "metadata": {},
   "outputs": [
    {
     "data": {
      "text/plain": [
       "count    278.000000\n",
       "mean       1.935252\n",
       "std        2.062940\n",
       "min        1.000000\n",
       "25%        1.000000\n",
       "50%        1.000000\n",
       "75%        2.000000\n",
       "max       26.000000\n",
       "Name: Open.Count, dtype: float64"
      ]
     },
     "execution_count": 14,
     "metadata": {},
     "output_type": "execute_result"
    }
   ],
   "source": [
    "filtered_df['Open.Count'].describe()"
   ]
  },
  {
   "cell_type": "code",
   "execution_count": null,
   "metadata": {},
   "outputs": [],
   "source": [
    "filtered_df['Email.Campaign.Name'].describe()"
   ]
  },
  {
   "cell_type": "code",
   "execution_count": 29,
   "metadata": {},
   "outputs": [],
   "source": [
    "filtered_df.to_csv(\"High_Engagement_Low_Donation.csv\")"
   ]
  }
 ],
 "metadata": {
  "kernelspec": {
   "display_name": "Python 3",
   "language": "python",
   "name": "python3"
  },
  "language_info": {
   "codemirror_mode": {
    "name": "ipython",
    "version": 3
   },
   "file_extension": ".py",
   "mimetype": "text/x-python",
   "name": "python",
   "nbconvert_exporter": "python",
   "pygments_lexer": "ipython3",
   "version": "3.9.0"
  }
 },
 "nbformat": 4,
 "nbformat_minor": 2
}
