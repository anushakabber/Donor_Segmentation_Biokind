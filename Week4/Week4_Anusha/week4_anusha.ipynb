{
 "cells": [
  {
   "cell_type": "markdown",
   "metadata": {},
   "source": [
    "Adding Population, Density, Metro Code and PerCapitaPersonalIncome (by Zipcode) to\n",
    "main df"
   ]
  },
  {
   "cell_type": "code",
   "execution_count": null,
   "metadata": {},
   "outputs": [],
   "source": [
    "import pandas as pd"
   ]
  },
  {
   "cell_type": "code",
   "execution_count": null,
   "metadata": {},
   "outputs": [],
   "source": [
    "metro_codes = pd.read_excel(\"/content/Ruralurbancontinuumcodes2023 (1).xlsx\")"
   ]
  },
  {
   "cell_type": "code",
   "execution_count": null,
   "metadata": {},
   "outputs": [],
   "source": [
    "zip_codes = pd.read_csv(\"/content/georef-united-states-of-america-zc-point@public.csv\", delimiter=\";\")"
   ]
  },
  {
   "cell_type": "code",
   "execution_count": null,
   "metadata": {},
   "outputs": [],
   "source": [
    "results_df = pd.read_csv('/content/results_df.csv')"
   ]
  },
  {
   "cell_type": "code",
   "execution_count": null,
   "metadata": {},
   "outputs": [],
   "source": [
    "economic_df = pd.read_csv('/content/Table.csv')"
   ]
  },
  {
   "cell_type": "code",
   "execution_count": null,
   "metadata": {},
   "outputs": [],
   "source": [
    "economic_df = economic_df[~economic_df['LineCode'].isin([1, 2])]\n",
    "economic_df.rename(columns={'2023': 'PerCapitaPersonalIncome'})"
   ]
  },
  {
   "cell_type": "code",
   "execution_count": null,
   "metadata": {},
   "outputs": [],
   "source": [
    "\n",
    "\n",
    "def is_integer(x):\n",
    "    try:\n",
    "        int(x)\n",
    "        return True\n",
    "    except (ValueError, TypeError):\n",
    "        return False\n",
    "\n",
    "# Filter out rows where 'GeoFips' is not an integer\n",
    "economic_df = economic_df[economic_df['GeoFips'].apply(is_integer)]\n",
    "\n",
    "# Convert 'GeoFips' to int64\n",
    "economic_df['GeoFips'] = economic_df['GeoFips'].astype('int64')\n",
    "\n",
    "economic_df"
   ]
  },
  {
   "cell_type": "code",
   "execution_count": null,
   "metadata": {},
   "outputs": [],
   "source": [
    "metro_income_df = pd.merge(metro_df, economic_df, left_on=\"Primary Official County Code\", right_on=\"GeoFips\", how=\"left\")"
   ]
  },
  {
   "cell_type": "code",
   "execution_count": null,
   "metadata": {},
   "outputs": [],
   "source": [
    "metro_income_df = metro_income_df[['Zip Code', 'Population', 'Density','RUCC_2023', '2023']]\n",
    "metro_income_df.rename(columns={'2023': 'PerCapitaPersonalIncome'}, inplace=True)"
   ]
  },
  {
   "cell_type": "code",
   "execution_count": null,
   "metadata": {},
   "outputs": [],
   "source": [
    "metro_income_df.to_csv('metro_income_df.csv')"
   ]
  },
  {
   "cell_type": "code",
   "execution_count": null,
   "metadata": {},
   "outputs": [],
   "source": [
    "results_df = pd.read_csv('/content/results_df.csv')\n",
    "final_df = pd.merge(results_df, metro_income_df, left_on=\"Zip.Code\", right_on=\"Zip Code\", how=\"left\")\n"
   ]
  },
  {
   "cell_type": "code",
   "execution_count": null,
   "metadata": {},
   "outputs": [],
   "source": [
    "final_df['PerCapitaPersonalIncome'] = pd.to_numeric(final_df['PerCapitaPersonalIncome'], errors='coerce')\n",
    "\n",
    "# Convert to int64, filling NaN values with 0 (or another appropriate value if needed)\n",
    "final_df['PerCapitaPersonalIncome'] = final_df['PerCapitaPersonalIncome'].fillna(0).astype('int64')\n",
    "\n",
    "final_df.to_csv('final_metro_income_df.csv')"
   ]
  }
 ],
 "metadata": {
  "kernelspec": {
   "display_name": "base",
   "language": "python",
   "name": "python3"
  },
  "language_info": {
   "name": "python",
   "version": "3.12.4"
  }
 },
 "nbformat": 4,
 "nbformat_minor": 2
}
