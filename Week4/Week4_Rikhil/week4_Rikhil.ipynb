{
 "cells": [
  {
   "cell_type": "code",
   "execution_count": 1,
   "metadata": {},
   "outputs": [
    {
     "name": "stdout",
     "output_type": "stream",
     "text": [
      "Requirement already satisfied: pandas in /Library/Frameworks/Python.framework/Versions/3.13/lib/python3.13/site-packages (2.2.3)\n",
      "Requirement already satisfied: numpy>=1.26.0 in /Library/Frameworks/Python.framework/Versions/3.13/lib/python3.13/site-packages (from pandas) (2.1.3)\n",
      "Requirement already satisfied: python-dateutil>=2.8.2 in /Users/rikhilrao/Library/Python/3.13/lib/python/site-packages (from pandas) (2.9.0.post0)\n",
      "Requirement already satisfied: pytz>=2020.1 in /Library/Frameworks/Python.framework/Versions/3.13/lib/python3.13/site-packages (from pandas) (2024.2)\n",
      "Requirement already satisfied: tzdata>=2022.7 in /Library/Frameworks/Python.framework/Versions/3.13/lib/python3.13/site-packages (from pandas) (2024.2)\n",
      "Requirement already satisfied: six>=1.5 in /Users/rikhilrao/Library/Python/3.13/lib/python/site-packages (from python-dateutil>=2.8.2->pandas) (1.17.0)\n",
      "Note: you may need to restart the kernel to use updated packages.\n"
     ]
    }
   ],
   "source": [
    "%pip install pandas"
   ]
  },
  {
   "cell_type": "code",
   "execution_count": 2,
   "metadata": {},
   "outputs": [],
   "source": [
    "import pandas as pd"
   ]
  },
  {
   "cell_type": "code",
   "execution_count": 3,
   "metadata": {},
   "outputs": [],
   "source": [
    "df = pd.read_csv(\"../final_metro_income_df.csv\")\n",
    "results_df = pd.read_csv(\"../../Week3/results_df.csv\")"
   ]
  },
  {
   "cell_type": "code",
   "execution_count": 6,
   "metadata": {},
   "outputs": [
    {
     "name": "stdout",
     "output_type": "stream",
     "text": [
      "Number of unqiue values:9\n",
      "RUCC_2023\n",
      "2.0    2611\n",
      "4.0     145\n",
      "1.0     108\n",
      "3.0      96\n",
      "8.0      31\n",
      "6.0      21\n",
      "7.0       8\n",
      "5.0       3\n",
      "9.0       2\n",
      "Name: count, dtype: int64\n"
     ]
    }
   ],
   "source": [
    "high_donation = df[df['Donation Type'] == 'High Donation']\n",
    "\n",
    "high_donation_frequency_RUCC_2023 = high_donation['RUCC_2023'].value_counts()\n",
    "high_donation_frequency_RUCC_2023_num_unique = len(high_donation_frequency_RUCC_2023.unique())\n",
    "\n",
    "print(\"Number of unqiue values:\" + str(high_donation_frequency_RUCC_2023_num_unique))\n",
    "print(high_donation_frequency_RUCC_2023)"
   ]
  },
  {
   "cell_type": "code",
   "execution_count": null,
   "metadata": {},
   "outputs": [
    {
     "name": "stdout",
     "output_type": "stream",
     "text": [
      "      Unnamed: 0.2  Unnamed: 0.1  Unnamed: 0  Account.ID  \\\n",
      "0                0             0           0           8   \n",
      "1                1             1           1           8   \n",
      "2                2             2           2           8   \n",
      "3                3             3           3           9   \n",
      "4                4             4           4           9   \n",
      "...            ...           ...         ...         ...   \n",
      "5663          5663          5663        5692        5615   \n",
      "5666          5666          5666        5695        5863   \n",
      "5667          5667          5667        5696        5863   \n",
      "5668          5668          5668        5697        5863   \n",
      "5671          5671          5671        5700        7099   \n",
      "\n",
      "     Email.First.Open.Date Email.Last.Open.Date  Open.Count  \\\n",
      "0                      NaN                  NaN         NaN   \n",
      "1                      NaN                  NaN         NaN   \n",
      "2               2022-08-18           2022-08-18         1.0   \n",
      "3               2021-05-03           2021-06-01        26.0   \n",
      "4                      NaN                  NaN         NaN   \n",
      "...                    ...                  ...         ...   \n",
      "5663                   NaN                  NaN         NaN   \n",
      "5666            2022-08-18           2022-08-18         1.0   \n",
      "5667                   NaN                  NaN         NaN   \n",
      "5668                   NaN                  NaN         NaN   \n",
      "5671                   NaN                  NaN         NaN   \n",
      "\n",
      "     Email.Recipient.Full.Name                  Email  Email.Retry.Count  ...  \\\n",
      "0               Peggy Stebbins   tyandpeggy@gmail.com                2.0  ...   \n",
      "1               Peggy Stebbins   tyandpeggy@gmail.com                2.0  ...   \n",
      "2               Peggy Stebbins   tyandpeggy@gmail.com                NaN  ...   \n",
      "3               Samantha Maier  Sglass32085@gmail.com                2.0  ...   \n",
      "4               Samantha Maier  Sglass32085@gmail.com                2.0  ...   \n",
      "...                        ...                    ...                ...  ...   \n",
      "5663         Michael Reitmeier     Mjrmad@hotmail.com                2.0  ...   \n",
      "5666                 Caleb Cox    cjcox.byu@gmail.com                NaN  ...   \n",
      "5667                 Caleb Cox    cjcox.byu@gmail.com                2.0  ...   \n",
      "5668                 Caleb Cox    cjcox.byu@gmail.com                2.0  ...   \n",
      "5671              Julie Wilson       office@umcmh.org                NaN  ...   \n",
      "\n",
      "     Donor_Score  Engagement Type  Donation Type  \\\n",
      "0      19.923984  High Engagement  High Donation   \n",
      "1      19.923984  High Engagement  High Donation   \n",
      "2      19.923984  High Engagement  High Donation   \n",
      "3      30.998648  High Engagement  High Donation   \n",
      "4      30.998648  High Engagement  High Donation   \n",
      "...          ...              ...            ...   \n",
      "5663   13.260125  High Engagement  High Donation   \n",
      "5666   22.669674  High Engagement  High Donation   \n",
      "5667   22.669674  High Engagement  High Donation   \n",
      "5668   22.669674  High Engagement  High Donation   \n",
      "5671    6.630062   Low Engagement   Low Donation   \n",
      "\n",
      "             Prioritized Donor Kind  Majority Donor Percentage Zip Code  \\\n",
      "0      High Engagement-Low Donation                  44.444444  53538.0   \n",
      "1      High Engagement-Low Donation                  44.444444  53538.0   \n",
      "2      High Engagement-Low Donation                  44.444444  53538.0   \n",
      "3      High Engagement-Low Donation                  43.750000  53578.0   \n",
      "4      High Engagement-Low Donation                  43.750000  53578.0   \n",
      "...                             ...                        ...      ...   \n",
      "5663  High Engagement-High Donation                  36.024845  53719.0   \n",
      "5666  High Engagement-High Donation                  42.941176  53593.0   \n",
      "5667  High Engagement-High Donation                  42.941176  53593.0   \n",
      "5668  High Engagement-High Donation                  42.941176  53593.0   \n",
      "5671  High Engagement-High Donation                  36.024845  53719.0   \n",
      "\n",
      "     Population  Density RUCC_2023  PerCapitaPersonalIncome  \n",
      "0       18528.0     72.1       4.0                    58374  \n",
      "1       18528.0     72.1       4.0                    58374  \n",
      "2       18528.0     72.1       4.0                    58374  \n",
      "3        6373.0     50.0       4.0                    66107  \n",
      "4        6373.0     50.0       4.0                    66107  \n",
      "...         ...      ...       ...                      ...  \n",
      "5663    31487.0   1203.1       2.0                    77996  \n",
      "5666    23676.0    127.1       2.0                    77996  \n",
      "5667    23676.0    127.1       2.0                    77996  \n",
      "5668    23676.0    127.1       2.0                    77996  \n",
      "5671    31487.0   1203.1       2.0                    77996  \n",
      "\n",
      "[5021 rows x 45 columns]\n"
     ]
    },
    {
     "data": {
      "text/plain": [
       "0"
      ]
     },
     "execution_count": 20,
     "metadata": {},
     "output_type": "execute_result"
    }
   ],
   "source": [
    "top_2_rucc_codes = high_donation_frequency_RUCC_2023.head(2).index.tolist()\n",
    "top_2_zip_codes_df = df[df['RUCC_2023'].isin(top_2_rucc_codes)]\n",
    "\n",
    "final_df = top_2_zip_codes_df[~top_2_zip_codes_df['Zip.Code'].isin(results_df['Zip.Code'])]\n",
    "\n",
    "# There are no new zip codes that we found through this process\n",
    "len(final_df.value_counts().unique().tolist())"
   ]
  },
  {
   "cell_type": "code",
   "execution_count": 23,
   "metadata": {},
   "outputs": [],
   "source": [
    "output_df = top_2_zip_codes_df[['Zip.Code', 'RUCC_2023']]\n"
   ]
  },
  {
   "cell_type": "code",
   "execution_count": 25,
   "metadata": {},
   "outputs": [],
   "source": [
    "top_2_zip_codes_df.to_csv(\"top_2_RUCC_2023_Zip_Codes_All.csv\")\n",
    "output_df.to_csv(\"top_2_RUCC_2023_Zip_Codes_Only.csv\")"
   ]
  },
  {
   "cell_type": "code",
   "execution_count": null,
   "metadata": {},
   "outputs": [],
   "source": []
  }
 ],
 "metadata": {
  "kernelspec": {
   "display_name": "Python 3",
   "language": "python",
   "name": "python3"
  },
  "language_info": {
   "codemirror_mode": {
    "name": "ipython",
    "version": 3
   },
   "file_extension": ".py",
   "mimetype": "text/x-python",
   "name": "python",
   "nbconvert_exporter": "python",
   "pygments_lexer": "ipython3",
   "version": "3.13.0"
  }
 },
 "nbformat": 4,
 "nbformat_minor": 2
}
