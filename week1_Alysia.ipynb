{
 "cells": [
  {
   "cell_type": "code",
   "execution_count": 1,
   "metadata": {},
   "outputs": [],
   "source": [
    "import pandas as pd"
   ]
  },
  {
   "cell_type": "code",
   "execution_count": 2,
   "metadata": {},
   "outputs": [],
   "source": [
    "merged_df = pd.read_csv('merged_data.csv')"
   ]
  },
  {
   "cell_type": "code",
   "execution_count": 3,
   "metadata": {},
   "outputs": [
    {
     "data": {
      "text/html": [
       "<div>\n",
       "<style scoped>\n",
       "    .dataframe tbody tr th:only-of-type {\n",
       "        vertical-align: middle;\n",
       "    }\n",
       "\n",
       "    .dataframe tbody tr th {\n",
       "        vertical-align: top;\n",
       "    }\n",
       "\n",
       "    .dataframe thead th {\n",
       "        text-align: right;\n",
       "    }\n",
       "</style>\n",
       "<table border=\"1\" class=\"dataframe\">\n",
       "  <thead>\n",
       "    <tr style=\"text-align: right;\">\n",
       "      <th></th>\n",
       "      <th>Account.ID</th>\n",
       "      <th>Open.Count</th>\n",
       "      <th>Email.Retry.Count</th>\n",
       "      <th>Email.Link.Click.Count</th>\n",
       "      <th>Email.Template.ID</th>\n",
       "      <th>Email.Error.Code</th>\n",
       "      <th>Email.Final.Receipt</th>\n",
       "      <th>Invalid.Email.Address</th>\n",
       "      <th>Email.Address.Bounce.Count</th>\n",
       "      <th>X.x</th>\n",
       "      <th>Salutation</th>\n",
       "      <th>X.y</th>\n",
       "    </tr>\n",
       "  </thead>\n",
       "  <tbody>\n",
       "    <tr>\n",
       "      <th>count</th>\n",
       "      <td>5701.000000</td>\n",
       "      <td>2217.000000</td>\n",
       "      <td>2484.0</td>\n",
       "      <td>276.000000</td>\n",
       "      <td>5701.000000</td>\n",
       "      <td>33.000000</td>\n",
       "      <td>0.0</td>\n",
       "      <td>0.0</td>\n",
       "      <td>41.000000</td>\n",
       "      <td>0.0</td>\n",
       "      <td>0.0</td>\n",
       "      <td>0.0</td>\n",
       "    </tr>\n",
       "    <tr>\n",
       "      <th>mean</th>\n",
       "      <td>1736.053499</td>\n",
       "      <td>3.930537</td>\n",
       "      <td>2.0</td>\n",
       "      <td>1.195652</td>\n",
       "      <td>231.903175</td>\n",
       "      <td>547.696970</td>\n",
       "      <td>NaN</td>\n",
       "      <td>NaN</td>\n",
       "      <td>1.292683</td>\n",
       "      <td>NaN</td>\n",
       "      <td>NaN</td>\n",
       "      <td>NaN</td>\n",
       "    </tr>\n",
       "    <tr>\n",
       "      <th>std</th>\n",
       "      <td>1120.249479</td>\n",
       "      <td>61.313773</td>\n",
       "      <td>0.0</td>\n",
       "      <td>0.860095</td>\n",
       "      <td>4.715308</td>\n",
       "      <td>17.232754</td>\n",
       "      <td>NaN</td>\n",
       "      <td>NaN</td>\n",
       "      <td>0.813754</td>\n",
       "      <td>NaN</td>\n",
       "      <td>NaN</td>\n",
       "      <td>NaN</td>\n",
       "    </tr>\n",
       "    <tr>\n",
       "      <th>min</th>\n",
       "      <td>8.000000</td>\n",
       "      <td>1.000000</td>\n",
       "      <td>2.0</td>\n",
       "      <td>1.000000</td>\n",
       "      <td>223.000000</td>\n",
       "      <td>452.000000</td>\n",
       "      <td>NaN</td>\n",
       "      <td>NaN</td>\n",
       "      <td>1.000000</td>\n",
       "      <td>NaN</td>\n",
       "      <td>NaN</td>\n",
       "      <td>NaN</td>\n",
       "    </tr>\n",
       "    <tr>\n",
       "      <th>25%</th>\n",
       "      <td>845.000000</td>\n",
       "      <td>1.000000</td>\n",
       "      <td>2.0</td>\n",
       "      <td>1.000000</td>\n",
       "      <td>227.000000</td>\n",
       "      <td>550.000000</td>\n",
       "      <td>NaN</td>\n",
       "      <td>NaN</td>\n",
       "      <td>1.000000</td>\n",
       "      <td>NaN</td>\n",
       "      <td>NaN</td>\n",
       "      <td>NaN</td>\n",
       "    </tr>\n",
       "    <tr>\n",
       "      <th>50%</th>\n",
       "      <td>1618.000000</td>\n",
       "      <td>1.000000</td>\n",
       "      <td>2.0</td>\n",
       "      <td>1.000000</td>\n",
       "      <td>236.000000</td>\n",
       "      <td>550.000000</td>\n",
       "      <td>NaN</td>\n",
       "      <td>NaN</td>\n",
       "      <td>1.000000</td>\n",
       "      <td>NaN</td>\n",
       "      <td>NaN</td>\n",
       "      <td>NaN</td>\n",
       "    </tr>\n",
       "    <tr>\n",
       "      <th>75%</th>\n",
       "      <td>2367.000000</td>\n",
       "      <td>2.000000</td>\n",
       "      <td>2.0</td>\n",
       "      <td>1.000000</td>\n",
       "      <td>236.000000</td>\n",
       "      <td>550.000000</td>\n",
       "      <td>NaN</td>\n",
       "      <td>NaN</td>\n",
       "      <td>1.000000</td>\n",
       "      <td>NaN</td>\n",
       "      <td>NaN</td>\n",
       "      <td>NaN</td>\n",
       "    </tr>\n",
       "    <tr>\n",
       "      <th>max</th>\n",
       "      <td>7099.000000</td>\n",
       "      <td>2760.000000</td>\n",
       "      <td>2.0</td>\n",
       "      <td>8.000000</td>\n",
       "      <td>236.000000</td>\n",
       "      <td>554.000000</td>\n",
       "      <td>NaN</td>\n",
       "      <td>NaN</td>\n",
       "      <td>5.000000</td>\n",
       "      <td>NaN</td>\n",
       "      <td>NaN</td>\n",
       "      <td>NaN</td>\n",
       "    </tr>\n",
       "  </tbody>\n",
       "</table>\n",
       "</div>"
      ],
      "text/plain": [
       "        Account.ID   Open.Count  Email.Retry.Count  Email.Link.Click.Count  \\\n",
       "count  5701.000000  2217.000000             2484.0              276.000000   \n",
       "mean   1736.053499     3.930537                2.0                1.195652   \n",
       "std    1120.249479    61.313773                0.0                0.860095   \n",
       "min       8.000000     1.000000                2.0                1.000000   \n",
       "25%     845.000000     1.000000                2.0                1.000000   \n",
       "50%    1618.000000     1.000000                2.0                1.000000   \n",
       "75%    2367.000000     2.000000                2.0                1.000000   \n",
       "max    7099.000000  2760.000000                2.0                8.000000   \n",
       "\n",
       "       Email.Template.ID  Email.Error.Code  Email.Final.Receipt  \\\n",
       "count        5701.000000         33.000000                  0.0   \n",
       "mean          231.903175        547.696970                  NaN   \n",
       "std             4.715308         17.232754                  NaN   \n",
       "min           223.000000        452.000000                  NaN   \n",
       "25%           227.000000        550.000000                  NaN   \n",
       "50%           236.000000        550.000000                  NaN   \n",
       "75%           236.000000        550.000000                  NaN   \n",
       "max           236.000000        554.000000                  NaN   \n",
       "\n",
       "       Invalid.Email.Address  Email.Address.Bounce.Count  X.x  Salutation  X.y  \n",
       "count                    0.0                   41.000000  0.0         0.0  0.0  \n",
       "mean                     NaN                    1.292683  NaN         NaN  NaN  \n",
       "std                      NaN                    0.813754  NaN         NaN  NaN  \n",
       "min                      NaN                    1.000000  NaN         NaN  NaN  \n",
       "25%                      NaN                    1.000000  NaN         NaN  NaN  \n",
       "50%                      NaN                    1.000000  NaN         NaN  NaN  \n",
       "75%                      NaN                    1.000000  NaN         NaN  NaN  \n",
       "max                      NaN                    5.000000  NaN         NaN  NaN  "
      ]
     },
     "execution_count": 3,
     "metadata": {},
     "output_type": "execute_result"
    }
   ],
   "source": [
    "merged_df.describe()"
   ]
  },
  {
   "cell_type": "code",
   "execution_count": 4,
   "metadata": {},
   "outputs": [
    {
     "name": "stdout",
     "output_type": "stream",
     "text": [
      "<class 'pandas.core.frame.DataFrame'>\n",
      "RangeIndex: 5701 entries, 0 to 5700\n",
      "Data columns (total 38 columns):\n",
      " #   Column                         Non-Null Count  Dtype  \n",
      "---  ------                         --------------  -----  \n",
      " 0   Account.ID                     5701 non-null   int64  \n",
      " 1   Email.First.Open.Date          2217 non-null   object \n",
      " 2   Email.Last.Open.Date           2217 non-null   object \n",
      " 3   Open.Count                     2217 non-null   float64\n",
      " 4   Email.Recipient.Full.Name..F.  5701 non-null   object \n",
      " 5   Email                          5701 non-null   object \n",
      " 6   Email.Retry.Count              2484 non-null   float64\n",
      " 7   Email.Send.Date.Time           5701 non-null   object \n",
      " 8   Email.Type                     5701 non-null   object \n",
      " 9   Email.First.Click.Date         276 non-null    object \n",
      " 10  Email.Last.Click.Date          276 non-null    object \n",
      " 11  Email.Link.Click.Count         276 non-null    float64\n",
      " 12  Email.Template.Name            5701 non-null   object \n",
      " 13  Email.Link.Name                276 non-null    object \n",
      " 14  Email.Template.ID              5701 non-null   int64  \n",
      " 15  Email.Address.Opt.Out.Date     184 non-null    object \n",
      " 16  Email.Error.Code               33 non-null     float64\n",
      " 17  Email.Error.Note               2 non-null      object \n",
      " 18  Email.Receipt.Mail.Server      2 non-null      object \n",
      " 19  Email.Final.Receipt            0 non-null      float64\n",
      " 20  Email.Last.Attempt.Date        2 non-null      object \n",
      " 21  Invalid.Email.Address          0 non-null      float64\n",
      " 22  Email.Last.Modified.Date.Time  184 non-null    object \n",
      " 23  Email.Address.Bounce.Count     41 non-null     float64\n",
      " 24  Email.Address.Block.Type       184 non-null    object \n",
      " 25  Email.Campaign.Name            5701 non-null   object \n",
      " 26  Email.Address.Opt.Out          143 non-null    object \n",
      " 27  X.x                            0 non-null      float64\n",
      " 28  Account.Type                   5701 non-null   object \n",
      " 29  Salutation                     0 non-null      float64\n",
      " 30  Full.Name..F.                  5696 non-null   object \n",
      " 31  Company.Name                   552 non-null    object \n",
      " 32  Address.Line.1                 2406 non-null   object \n",
      " 33  City                           2433 non-null   object \n",
      " 34  State.Province                 2433 non-null   object \n",
      " 35  Zip.Code                       5675 non-null   object \n",
      " 36  Largest.Donation.Amount        5701 non-null   object \n",
      " 37  X.y                            0 non-null      float64\n",
      "dtypes: float64(10), int64(2), object(26)\n",
      "memory usage: 1.7+ MB\n"
     ]
    }
   ],
   "source": [
    "merged_df.info()"
   ]
  },
  {
   "cell_type": "code",
   "execution_count": 5,
   "metadata": {},
   "outputs": [
    {
     "name": "stdout",
     "output_type": "stream",
     "text": [
      "True\n"
     ]
    }
   ],
   "source": [
    "import math\n",
    "print(math.isnan(merged_df[1:].at[31, \"Zip.Code\"]))"
   ]
  },
  {
   "cell_type": "code",
   "execution_count": 6,
   "metadata": {},
   "outputs": [
    {
     "name": "stderr",
     "output_type": "stream",
     "text": [
      "/var/folders/rr/012yr6lj4ln3s7mh277kwbm40000gn/T/ipykernel_12155/3167742899.py:4: SettingWithCopyWarning: \n",
      "A value is trying to be set on a copy of a slice from a DataFrame.\n",
      "Try using .loc[row_indexer,col_indexer] = value instead\n",
      "\n",
      "See the caveats in the documentation: https://pandas.pydata.org/pandas-docs/stable/user_guide/indexing.html#returning-a-view-versus-a-copy\n",
      "  noNull[\"Zip.Code\"] = noNull[\"Zip.Code\"].apply(lambda x: str(x)[:5] if len(str(x)) > 5 else x)\n"
     ]
    }
   ],
   "source": [
    "csv_header = merged_df.iloc[0]\n",
    "csv_rows = merged_df.iloc[1:]\n",
    "## remove rows that doesn't have zipcode\n",
    "noNull = merged_df.dropna(subset=['Zip.Code'])\n",
    "## change the zipcode that is longer than 5 digits to 5 digits\n",
    "noNull[\"Zip.Code\"] = noNull[\"Zip.Code\"].apply(lambda x: str(x)[:5] if len(str(x)) > 5 else x)"
   ]
  },
  {
   "cell_type": "code",
   "execution_count": 7,
   "metadata": {},
   "outputs": [
    {
     "name": "stdout",
     "output_type": "stream",
     "text": [
      "<class 'pandas.core.series.Series'>\n",
      "Int64Index: 5675 entries, 0 to 5700\n",
      "Series name: Zip.Code\n",
      "Non-Null Count  Dtype \n",
      "--------------  ----- \n",
      "5675 non-null   object\n",
      "dtypes: object(1)\n",
      "memory usage: 88.7+ KB\n"
     ]
    }
   ],
   "source": [
    "noNull[\"Zip.Code\"].info()"
   ]
  },
  {
   "cell_type": "code",
   "execution_count": 8,
   "metadata": {},
   "outputs": [],
   "source": [
    "noNull.to_csv('cleaned_merged_df_ZipCode.csv')"
   ]
  },
  {
   "cell_type": "code",
   "execution_count": 9,
   "metadata": {},
   "outputs": [],
   "source": [
    "## hello"
   ]
  }
 ],
 "metadata": {
  "kernelspec": {
   "display_name": "base",
   "language": "python",
   "name": "python3"
  },
  "language_info": {
   "codemirror_mode": {
    "name": "ipython",
    "version": 3
   },
   "file_extension": ".py",
   "mimetype": "text/x-python",
   "name": "python",
   "nbconvert_exporter": "python",
   "pygments_lexer": "ipython3",
   "version": "3.11.4"
  }
 },
 "nbformat": 4,
 "nbformat_minor": 2
}
